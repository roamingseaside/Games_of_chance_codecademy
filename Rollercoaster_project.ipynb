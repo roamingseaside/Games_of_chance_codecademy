{
 "cells": [
  {
   "cell_type": "code",
   "execution_count": 118,
   "metadata": {},
   "outputs": [
    {
     "data": {
      "text/plain": [
       "'1.0.5'"
      ]
     },
     "execution_count": 118,
     "metadata": {},
     "output_type": "execute_result"
    }
   ],
   "source": [
    "import pandas as pd\n",
    "from matplotlib import pyplot as plt\n",
    "import matplotlib.ticker as ticker\n",
    "pd.__version__"
   ]
  },
  {
   "cell_type": "code",
   "execution_count": 2,
   "metadata": {},
   "outputs": [
    {
     "name": "stdout",
     "output_type": "stream",
     "text": [
      "   Rank          Name                       Park             Location  \\\n",
      "0     1  Boulder Dash             Lake Compounce       Bristol, Conn.   \n",
      "1     2       El Toro  Six Flags Great Adventure        Jackson, N.J.   \n",
      "2     3       Phoenix  Knoebels Amusement Resort        Elysburg, Pa.   \n",
      "3     4    The Voyage              Holiday World    Santa Claus, Ind.   \n",
      "4     5   Thunderhead                  Dollywood  Pigeon Forge, Tenn.   \n",
      "\n",
      "           Supplier  Year Built  Points  Year of Rank  \n",
      "0               CCI        2000    1333          2013  \n",
      "1           Intamin        2006    1302          2013  \n",
      "2  Dinn/PTC-Schmeck        1985    1088          2013  \n",
      "3     Gravity Group        2006    1086          2013  \n",
      "4              GCII        2004     923          2013  \n",
      "   Rank                Name                        Park           Location  \\\n",
      "0     1    Millennium Force                 Cedar Point     Sandusky, Ohio   \n",
      "1     2             Bizarro       Six Flags New England      Agawam, Mass.   \n",
      "2     3  Expedition GeForce                Holiday Park  Hassloch, Germany   \n",
      "3     4               Nitro   Six Flags Great Adventure      Jackson, N.J.   \n",
      "4     5    Apollo’s Chariot  Busch Gardens Williamsburg  Williamsburg, Va.   \n",
      "\n",
      "  Supplier  Year Built  Points  Year of Rank  \n",
      "0  Intamin        2000    1204          2013  \n",
      "1  Intamin        2000    1011          2013  \n",
      "2  Intamin        2001     598          2013  \n",
      "3      B&M        2001     596          2013  \n",
      "4      B&M        1999     542          2013  \n"
     ]
    }
   ],
   "source": [
    "wood = pd.read_csv(r'C:\\Users\\pittm\\OneDrive\\Documents\\Python Development\\Codecademy Projects\\roller_coaster_starting\\Golden_Ticket_Award_Winners_Wood.csv')\n",
    "steel = pd.read_csv(r'C:\\Users\\pittm\\OneDrive\\Documents\\Python Development\\Codecademy Projects\\roller_coaster_starting\\Golden_Ticket_Award_Winners_Steel.csv')\n",
    "\n",
    "print(wood.head())\n",
    "print(steel.head())                      "
   ]
  },
  {
   "cell_type": "code",
   "execution_count": 3,
   "metadata": {},
   "outputs": [
    {
     "name": "stdout",
     "output_type": "stream",
     "text": [
      "    Rank     Name                       Park       Location Supplier  \\\n",
      "1      2  El Toro  Six Flags Great Adventure  Jackson, N.J.  Intamin   \n",
      "11     2  El Toro  Six Flags Great Adventure  Jackson, N.J.  Intamin   \n",
      "\n",
      "    Year Built  Points  Year of Rank  \n",
      "1         2006    1302          2013  \n",
      "11        2006    1291          2014  \n"
     ]
    }
   ],
   "source": [
    "coaster = wood[wood.Name == 'El Toro']\n",
    "print(coaster.head(2))\n",
    "\n"
   ]
  },
  {
   "cell_type": "code",
   "execution_count": 4,
   "metadata": {},
   "outputs": [
    {
     "name": "stderr",
     "output_type": "stream",
     "text": [
      "No handles with labels found to put in legend.\n",
      "<ipython-input-4-425e83cfd573>:9: MatplotlibDeprecationWarning: Adding an axes using the same arguments as a previous axes currently reuses the earlier instance.  In a future version, a new instance will always be created and returned.  Meanwhile, this warning can be suppressed, and the future behavior ensured, by passing a unique label to each axes instance.\n",
      "  ax= plt.subplot()\n",
      "No handles with labels found to put in legend.\n"
     ]
    },
    {
     "data": {
      "image/png": "[encoded data removed]",
      "text/plain": [
       "<Figure size 432x288 with 1 Axes>"
      ]
     },
     "metadata": {
      "needs_background": "light"
     },
     "output_type": "display_data"
    }
   ],
   "source": [
    "#logic works for single coaster but does not seperate if there is more than one name.\n",
    "#work on second part of this function\n",
    "\n",
    "def coast(ride):\n",
    "    coaster = wood[wood.Name == ride]\n",
    "    x_values = list(range(len(coaster.Rank)))\n",
    "    x_values_names = list(coaster['Year of Rank'])\n",
    "    y_values = list(coaster.Rank)\n",
    "    ax= plt.subplot()\n",
    "    ax.plot(x_values, y_values, marker='s')\n",
    "    ax.set_title('Coaster rank by year')\n",
    "    ax.legend()\n",
    "    ax.set_xlabel('Year')\n",
    "    ax.set_ylabel('Ranking')\n",
    "    ax.set_xticks(x_values)\n",
    "    ax.set_xticklabels(x_values_names)\n",
    "coast('Boulder Dash')\n",
    "\n",
    "coast('Phoenix')"
   ]
  },
  {
   "cell_type": "code",
   "execution_count": 78,
   "metadata": {},
   "outputs": [
    {
     "name": "stdout",
     "output_type": "stream",
     "text": [
      "                                    name material_type   seating_type  speed  \\\n",
      "0                               Goudurix         Steel       Sit Down   75.0   \n",
      "1                          Dream catcher         Steel      Suspended   45.0   \n",
      "2                             Alucinakis         Steel       Sit Down   30.0   \n",
      "3                               Anaconda        Wooden       Sit Down   85.0   \n",
      "4                                 Azteka         Steel       Sit Down   55.0   \n",
      "5                            Bat Coaster         Steel       Inverted   70.0   \n",
      "6                 Batman : Arkham Asylum         Steel       Inverted   80.0   \n",
      "7                   Big Thunder Mountain         Steel       Sit Down   60.0   \n",
      "8                              EqWalizer         Steel       Sit Down   76.0   \n",
      "9                          Calamity Mine         Steel       Sit Down   48.0   \n",
      "10    Casey Jr, le Petit Train du Cirque         Steel       Sit Down   30.0   \n",
      "11                                 Cobra         Steel       Sit Down   76.0   \n",
      "12                            Coccinelle         Steel       Sit Down   36.0   \n",
      "13                         Coleoz'Arbres         Steel       Sit Down   60.0   \n",
      "14                                 Comet         Steel       Sit Down   64.0   \n",
      "15                   Course de Bobsleigh         Steel       Sit Down   65.0   \n",
      "16                               Cumbres         Steel       Sit Down    NaN   \n",
      "17                  Le Dragon de Bei Hai         Steel       Sit Down    NaN   \n",
      "18                              Euro Mir         Steel       Spinning   80.0   \n",
      "19                               Eurosat         Steel       Sit Down   60.0   \n",
      "20                   Expedition Ge Force         Steel       Sit Down  120.0   \n",
      "21                       Le Grand canyon         Steel       Sit Down   50.0   \n",
      "22   Indiana Jones et le Temple du Péril         Steel       Sit Down   58.0   \n",
      "23                                Jaguar         Steel       Inverted   83.0   \n",
      "24                     Cop Car Chase (1)         Steel       Sit Down   60.0   \n",
      "25                            Loup Garou        Wooden       Sit Down   80.0   \n",
      "26                       Magnus Colossus        Wooden       Sit Down   92.0   \n",
      "27                              Oki Doki         Steel       Sit Down   58.0   \n",
      "28                         SOS Numerobis         Steel       Sit Down   32.0   \n",
      "29                              Poseïdon         Steel  Water Coaster   70.0   \n",
      "30  Rock'n Roller Coaster avec Aerosmith         Steel       Sit Down   92.0   \n",
      "31                  La Ronde des Rondins         Steel       Sit Down   26.0   \n",
      "32                            Silverstar         Steel       Sit Down  127.0   \n",
      "33        Superman la Atraccion de Acero         Steel      Floorless  105.0   \n",
      "34                    La Trace du Hourra         Steel      Bobsleigh   60.0   \n",
      "35                            Stunt Fall         Steel       Sit Down  106.0   \n",
      "36                   Le Tigre de Sibérie         Steel       Sit Down   40.0   \n",
      "37                              Titánide         Steel       Inverted   80.0   \n",
      "38                           Tom y Jerry         Steel       Sit Down   36.0   \n",
      "39                     Psyké underground         Steel       Sit Down   85.0   \n",
      "40                      Tonnerre de Zeus        Wooden       Sit Down   84.0   \n",
      "41                     Tren Bravo (Left)         Steel       Sit Down   45.0   \n",
      "42                               Typhoon         Steel       Sit Down   80.0   \n",
      "43                     Schweizer Bobbahn         Steel      Bobsleigh   50.0   \n",
      "44                               Vampire         Steel       Inverted   80.0   \n",
      "45                        Le Vol d'Icare         Steel       Sit Down   42.0   \n",
      "46                            Wild Train         Steel       Sit Down   70.0   \n",
      "47                                Bandit        Wooden       Sit Down   80.0   \n",
      "48                     Woodstock Express         Steel       Sit Down    NaN   \n",
      "49                             MP-Xpress         Steel       Inverted   80.0   \n",
      "\n",
      "    height  length  num_inversions     manufacturer  \\\n",
      "0     37.0   950.0             7.0           Vekoma   \n",
      "1     25.0   600.0             0.0           Vekoma   \n",
      "2      8.0   250.0             0.0         Zamperla   \n",
      "3     35.0  1200.0             0.0  William J. Cobb   \n",
      "4     17.0   500.0             0.0           Soquet   \n",
      "5     20.0   400.0             2.0          Pinfari   \n",
      "6     32.0   823.0             5.0              B&M   \n",
      "7     22.0  1500.0             0.0           Vekoma   \n",
      "8     36.0   285.0             3.0           Vekoma   \n",
      "9     14.0   785.0             0.0           Vekoma   \n",
      "10     NaN     NaN             0.0           Vekoma   \n",
      "11    36.0   285.0             3.0           Vekoma   \n",
      "12     8.0   360.0             0.0           Zierer   \n",
      "13     NaN   540.0             0.0      Schwarzkopf   \n",
      "14    24.0     NaN             3.0           Vekoma   \n",
      "15    15.0   450.0             0.0      Schwarzkopf   \n",
      "16     3.0     NaN             0.0    Miler Coaster   \n",
      "17     NaN     NaN             0.0    Cavazza Diego   \n",
      "18    28.0   980.0             0.0             Mack   \n",
      "19    26.0   877.0             0.0             Mack   \n",
      "20    53.0  1220.0             0.0          Intamin   \n",
      "21    12.0   380.0             0.0           Soquet   \n",
      "22    18.0   566.0             1.0          Intamin   \n",
      "23    34.0   689.0             5.0           Vekoma   \n",
      "24    16.0   620.0             2.0          Intamin   \n",
      "25    28.0  1035.0             0.0           Vekoma   \n",
      "26    38.0  1150.0             0.0             RCCA   \n",
      "27    16.0   436.0             0.0           Vekoma   \n",
      "28     6.0   200.0             0.0           Zierer   \n",
      "29    23.0   836.0             0.0             Mack   \n",
      "30    24.0  1037.0             3.0           Vekoma   \n",
      "31     3.0    60.0             0.0           Zierer   \n",
      "32    73.0  1620.0             0.0              B&M   \n",
      "33    50.0  1200.0             7.0              B&M   \n",
      "34    31.0   900.0             0.0             Mack   \n",
      "35    58.0   367.0             3.0           Vekoma   \n",
      "36    13.0   360.0             0.0        Reverchon   \n",
      "37    33.0   689.0             5.0           Vekoma   \n",
      "38     8.0   360.0             0.0           Zierer   \n",
      "39    42.0   260.0             1.0      Schwarzkopf   \n",
      "40    30.0  1233.0             0.0              CCI   \n",
      "41     6.0   394.0             0.0         Zamperla   \n",
      "42    26.0   670.0             4.0       Gerstlauer   \n",
      "43    19.0   487.0             0.0             Mack   \n",
      "44    33.0   689.0             5.0           Vekoma   \n",
      "45    11.0   410.0             0.0           Zierer   \n",
      "46    15.0   330.0             0.0              Pax   \n",
      "47    28.0  1099.0             0.0             RCCA   \n",
      "48     NaN   220.0             0.0         Zamperla   \n",
      "49    33.0   689.0             5.0           Vekoma   \n",
      "\n",
      "                               park                     status  \n",
      "0                      Parc Asterix           status.operating  \n",
      "1                     Bobbejaanland           status.operating  \n",
      "2                      Terra Mítica           status.operating  \n",
      "3                    Walygator Parc           status.operating  \n",
      "4                            Le Pal           status.operating  \n",
      "5                         Nigloland           status.relocated  \n",
      "6              Parque Warner Madrid           status.operating  \n",
      "7                   Disneyland Park           status.operating  \n",
      "8                Walibi Rhône Alpes           status.operating  \n",
      "9                    Walibi Belgium           status.operating  \n",
      "10                  Disneyland Park           status.operating  \n",
      "11                   Walibi Belgium           status.operating  \n",
      "12               Walibi Rhône Alpes           status.operating  \n",
      "13                        Bagatelle   status.closed.definitely  \n",
      "14                   Walygator Parc           status.operating  \n",
      "15                        Nigloland           status.relocated  \n",
      "16  Parque de Atracciones de Madrid   status.closed.definitely  \n",
      "17                  La Mer de Sable   status.closed.definitely  \n",
      "18                      Europa Park           status.operating  \n",
      "19                      Europa Park           status.retracked  \n",
      "20                     Holiday Park           status.operating  \n",
      "21                Fraispertuis City           status.operating  \n",
      "22                  Disneyland Park           status.operating  \n",
      "23                      Isla Magica           status.operating  \n",
      "24               Movie Park Germany   status.closed.definitely  \n",
      "25                   Walibi Belgium           status.operating  \n",
      "26                     Terra Mítica  status.closed.temporarily  \n",
      "27                    Bobbejaanland           status.operating  \n",
      "28                     Parc Asterix           status.operating  \n",
      "29                      Europa Park           status.operating  \n",
      "30              Walt Disney Studios           status.operating  \n",
      "31                     Parc Asterix           status.relocated  \n",
      "32                      Europa Park           status.operating  \n",
      "33             Parque Warner Madrid           status.operating  \n",
      "34                     Parc Asterix           status.operating  \n",
      "35             Parque Warner Madrid           status.operating  \n",
      "36                           Le Pal           status.operating  \n",
      "37                     Terra Mítica           status.operating  \n",
      "38             Parque Warner Madrid           status.operating  \n",
      "39                   Walibi Belgium           status.operating  \n",
      "40                     Parc Asterix           status.operating  \n",
      "41                     Terra Mítica  status.closed.temporarily  \n",
      "42                    Bobbejaanland           status.operating  \n",
      "43                      Europa Park           status.operating  \n",
      "44                   Walibi Belgium           status.operating  \n",
      "45                     Parc Asterix           status.operating  \n",
      "46                  Parc Saint Paul           status.operating  \n",
      "47               Movie Park Germany           status.operating  \n",
      "48               Walibi Rhône Alpes           status.operating  \n",
      "49               Movie Park Germany           status.operating  \n"
     ]
    }
   ],
   "source": [
    "rc = pd.read_csv(r'C:\\Users\\pittm\\OneDrive\\Documents\\Python Development\\Codecademy Projects\\roller_coaster_starting\\roller_coasters.csv')\n",
    "print(rc.head(50))"
   ]
  },
  {
   "cell_type": "code",
   "execution_count": 75,
   "metadata": {},
   "outputs": [],
   "source": [
    "#Question 7 for roller coaster project.   Pulls column name and graphs histogram for numeric columns\n",
    "#.dropna() drops columns with na values\n",
    "def histogram(col):\n",
    "    answer = rc[col].dropna()\n",
    "    ax1 = plt.subplot()\n",
    "    ax1.hist(answer, 15, alpha=.4)\n",
    "    ax1.set_title('Histogram of '+col)\n",
    "    ax1.set_xlabel('Number of coasters')\n",
    "    ax1.set_ylabel(col)\n"
   ]
  },
  {
   "cell_type": "code",
   "execution_count": 76,
   "metadata": {},
   "outputs": [
    {
     "data": {
      "image/png": "[encoded data removed]",
      "text/plain": [
       "<Figure size 432x288 with 1 Axes>"
      ]
     },
     "metadata": {
      "needs_background": "light"
     },
     "output_type": "display_data"
    }
   ],
   "source": [
    "histogram('speed')"
   ]
  },
  {
   "cell_type": "code",
   "execution_count": 122,
   "metadata": {},
   "outputs": [
    {
     "data": {
      "text/plain": [
       "Text(0, 0.5, '# of inversions')"
      ]
     },
     "execution_count": 122,
     "metadata": {},
     "output_type": "execute_result"
    },
    {
     "data": {
      "image/png": "[encoded data removed]",
      "text/plain": [
       "<Figure size 432x288 with 1 Axes>"
      ]
     },
     "metadata": {
      "needs_background": "light"
     },
     "output_type": "display_data"
    }
   ],
   "source": [
    "x = ['coast 1', 'coast 2', 'coast 3']\n",
    "y = [3, 4, 2]\n",
    "\n",
    "ax = plt.subplot()\n",
    "ax.bar(x, y)\n",
    "ax.set_title('theme park roller coasters')\n",
    "ax.set_ylabel('# of inversions')\n"
   ]
  },
  {
   "cell_type": "code",
   "execution_count": 123,
   "metadata": {},
   "outputs": [
    {
     "ename": "SyntaxError",
     "evalue": "invalid syntax (<ipython-input-123-a726e036e888>, line 1)",
     "output_type": "error",
     "traceback": [
      "\u001b[1;36m  File \u001b[1;32m\"<ipython-input-123-a726e036e888>\"\u001b[1;36m, line \u001b[1;32m1\u001b[0m\n\u001b[1;33m    xs = lambda x: rc[name] if rc.park == place\u001b[0m\n\u001b[1;37m                                               ^\u001b[0m\n\u001b[1;31mSyntaxError\u001b[0m\u001b[1;31m:\u001b[0m invalid syntax\n"
     ]
    }
   ],
   "source": []
  },
  {
   "cell_type": "code",
   "execution_count": null,
   "metadata": {},
   "outputs": [],
   "source": []
  }
 ],
 "metadata": {
  "kernelspec": {
   "display_name": "Python 3",
   "language": "python",
   "name": "python3"
  },
  "language_info": {
   "codemirror_mode": {
    "name": "ipython",
    "version": 3
   },
   "file_extension": ".py",
   "mimetype": "text/x-python",
   "name": "python",
   "nbconvert_exporter": "python",
   "pygments_lexer": "ipython3",
   "version": "3.8.3"
  }
 },
 "nbformat": 4,
 "nbformat_minor": 4
}
