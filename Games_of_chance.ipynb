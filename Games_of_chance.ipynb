{
 "cells": [
  {
   "cell_type": "raw",
   "metadata": {},
   "source": [
    "import random\n",
    "money = 100\n",
    "\n",
    "#OUTLINES EACH GAME.\n",
    "print('There are four games available:')\n",
    "print()\n",
    "print('   Flip a coin')\n",
    "print('   Cho han')\n",
    "print('   Pick a card')\n",
    "print('   Roulette')\n",
    "print()\n",
    "print('If you want to know the rules of the game,')\n",
    "print('just type rules(\"<Enter game name here>\")')\n",
    "\n",
    "#OUTLINES THE RULES FOR EACH GAME.\n",
    "def rules(type):\n",
    "    if type == 'Flip a coin':\n",
    "        print('Game: Flip a coin')\n",
    "        print('Type a guess of \"heads\" or \"tails\" and make a bet > 0 and less than what you currently have in your account.')\n",
    "        print()\n",
    "        print('Type: coin_flip(\"guess\", bet amount <just use a number>)')\n",
    "        print('Example: coin_flip(\"heads\", 5)')\n",
    "    elif type == 'Cho han':\n",
    "        print('Game: Cho Han:')\n",
    "        print('The game involves a pair of dice.  Your goal is to guess if the sum equals \"even\" or \"odd.\"')\n",
    "        print('Type a guess in the box and make a bet > 0 and less than what you currently have in your account.')\n",
    "        print()\n",
    "        print('Type: cho_han(\"guess\", bet amount <just use a number>)')\n",
    "        print('Example: cho_han(\"even\", 5)')\n",
    "    elif type == 'Pick a card':\n",
    "        print('Game:  Pick a card')\n",
    "        print('You will pick a random card.  Your opponent will pick one as well.   The higher card wins.')\n",
    "        print('Picking the same value card results in a tie.  You neither win nor lose.')\n",
    "        print('Make a bet > 0 and less than what you currently have in your account')\n",
    "        print()\n",
    "        print('Type: pick_a_card(bet amount <just use a number>)')\n",
    "        print('Example: pick_a_card(5)')\n",
    "    elif type == 'Roulette':\n",
    "        print('Game: Roulette')\n",
    "        print(' game rules to be written')\n",
    "        print()\n",
    "        print('Type: roulette(\"guess\", bet amount <just use a number>)')\n",
    "    else:\n",
    "        print('Are you sure you typed the name in correctly?')\n",
    "        print('Capitalization and spacing matter!!')\n",
    "\n",
    "###----------------------------------------------------------------------------------------------------------\n",
    "###Coin flip function\n",
    "def coin_flip(guess, bet):\n",
    "    global money \n",
    "    num = random.randint(1,2)\n",
    "    if guess != 'heads' and guess != 'tails':\n",
    "        print('Did you enter the guess correctly? Only \"heads\" or \"tails\" is accepted.')\n",
    "        print('NOTE: guess is case sensitive')\n",
    "    elif bet < 1:\n",
    "        print('Shame on you...you can not play if you do not bet correctly.')\n",
    "    elif money - bet < 0:\n",
    "        print('Sorry...you are too poor to make that bet.  Your current balance is $'+str(money))\n",
    "    else:\n",
    "        if num == 1:\n",
    "            outcome = 'heads'\n",
    "        else:\n",
    "            outcome = 'tails'\n",
    "        if outcome == guess:\n",
    "            money += bet\n",
    "            print('You guessed right.  You win $'+str(bet)+' and you now have $'+str(money))\n",
    "        else:\n",
    "            money -= bet\n",
    "            print('You guessed wrong.  You lose $'+str(bet)+' and you now have $'+str(money))\n",
    "###----------------------------------------------------------------------------------------------------------\n",
    "###Cho han function\n",
    "def cho_han(guess, bet):\n",
    "    global money\n",
    "    answer = 0\n",
    "    dice1 = random.randint(1,6)\n",
    "    dice2 = random.randint(1,6)\n",
    "    total = dice1 + dice2\n",
    "    if guess != 'even' and guess != 'odd':\n",
    "        print('Did you enter the guess correctly? Only \"even\" or \"tails\" is accepted.')\n",
    "        print('NOTE: guess is case sensitive')\n",
    "    elif bet < 1:\n",
    "        print('Shame on you...you can not play if you do not bet correctly.')\n",
    "    elif money - bet < 0:\n",
    "        print('Sorry...you are too poor to make that bet.  Your current balance is $'+str(money))\n",
    "    else:\n",
    "        if total%2 == 0:\n",
    "            answer = 'even'\n",
    "        else:\n",
    "            answer = 'odd'\n",
    "        if guess == answer:\n",
    "            money += bet\n",
    "            print('You guessed right.  You win $'+str(bet)+' and you now have $'+str(money))\n",
    "        else:\n",
    "            money -= bet\n",
    "            print('You guessed wrong.  You lose $'+str(bet)+' and you now have $'+str(money))\n",
    "###----------------------------------------------------------------------------------------------------------\n",
    "##pick a card fuction\n",
    "##ties currently reset the deck.  Next iteration show have the ability to pull from a deck using a list and reduct the probability.\n",
    "def pick_a_card(bet):\n",
    "    global money\n",
    "    player = random.randint(2,14)\n",
    "    opponent = random.randint(2,14)\n",
    "    if bet < 1:\n",
    "        print('Shame on you...you can not play if you do not bet correctly.')\n",
    "    elif money - bet < 0:\n",
    "        print('Sorry...you are too poor to make that bet.  Your current balance is $'+str(money))\n",
    "    else:\n",
    "        if player > opponent:\n",
    "            money += bet\n",
    "            print('Your card was HIGHER.  You win $'+str(bet)+' and you now have $'+str(money))\n",
    "        elif player < opponent:\n",
    "            money -= bet\n",
    "            print('You lost.  You lose $'+str(bet)+' and you now have $'+str(money))\n",
    "        else:\n",
    "            print('It was a tie.  Nothing happens')"
   ]
  },
  {
   "cell_type": "code",
   "execution_count": 9,
   "metadata": {},
   "outputs": [
    {
     "name": "stdout",
     "output_type": "stream",
     "text": [
      "Game: Cho Han:\n",
      "The game involves a pair of dice.  Your goal is to guess if the sum equals \"even\" or \"odd.\"\n",
      "Type a guess in the box and make a bet > 0 and less than what you currently have in your account.\n",
      "\n",
      "Type: cho_han(\"guess\", bet amount <just use a number>)\n",
      "Example: cho_han(\"even\", 5)\n",
      "\n",
      "You guessed right.  You win $25 and you now have $125\n",
      "\n",
      "You guessed right.  You win $35 and you now have $160\n"
     ]
    }
   ],
   "source": [
    "rules('Cho han')\n",
    "print()\n",
    "coin_flip('tails', 25)  \n",
    "print()\n",
    "cho_han('odd',35)"
   ]
  },
  {
   "cell_type": "raw",
   "metadata": {},
   "source": [
    "pick_a_card(160)"
   ]
  },
  {
   "cell_type": "code",
   "execution_count": 4,
   "metadata": {},
   "outputs": [
    {
     "name": "stdout",
     "output_type": "stream",
     "text": [
      "Sorry...you are too poor to make that bet.  Your current balance is $100\n"
     ]
    }
   ],
   "source": [
    "pick_a_card(155)"
   ]
  },
  {
   "cell_type": "code",
   "execution_count": 3,
   "metadata": {},
   "outputs": [
    {
     "ename": "SyntaxError",
     "evalue": "invalid syntax (<ipython-input-3-fbb9bcbc4818>, line 1)",
     "output_type": "error",
     "traceback": [
      "\u001b[1;36m  File \u001b[1;32m\"<ipython-input-3-fbb9bcbc4818>\"\u001b[1;36m, line \u001b[1;32m1\u001b[0m\n\u001b[1;33m    def roulette()\u001b[0m\n\u001b[1;37m                  ^\u001b[0m\n\u001b[1;31mSyntaxError\u001b[0m\u001b[1;31m:\u001b[0m invalid syntax\n"
     ]
    }
   ],
   "source": [
    "def roulette():"
   ]
  },
  {
   "cell_type": "code",
   "execution_count": null,
   "metadata": {},
   "outputs": [],
   "source": []
  }
 ],
 "metadata": {
  "kernelspec": {
   "display_name": "Python 3",
   "language": "python",
   "name": "python3"
  },
  "language_info": {
   "codemirror_mode": {
    "name": "ipython",
    "version": 3
   },
   "file_extension": ".py",
   "mimetype": "text/x-python",
   "name": "python",
   "nbconvert_exporter": "python",
   "pygments_lexer": "ipython3",
   "version": "3.8.3"
  }
 },
 "nbformat": 4,
 "nbformat_minor": 4
}
